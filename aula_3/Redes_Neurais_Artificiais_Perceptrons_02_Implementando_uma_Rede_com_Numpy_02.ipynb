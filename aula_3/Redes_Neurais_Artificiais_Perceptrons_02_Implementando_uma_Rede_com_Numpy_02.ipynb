{
  "cells": [
    {
      "cell_type": "code",
      "execution_count": 1,
      "metadata": {
        "colab": {
          "base_uri": "https://localhost:8080/",
          "height": 51
        },
        "colab_type": "code",
        "id": "XosGphWAXE6W",
        "outputId": "79f45533-eede-451e-9444-8b0c0cf7fa38"
      },
      "outputs": [
        {
          "name": "stdout",
          "output_type": "stream",
          "text": [
            "0\n",
            "Soma dos elementos de camada2:  0.5\n"
          ]
        }
      ],
      "source": [
        "# -*- coding: utf-8 -*-\n",
        "\"\"\"\n",
        "Created on Mon Sep 18 14:16:04 2017\n",
        "\n",
        "@author: Ricardo Roberto de Lima\n",
        "Implementação de Perceptron de Camada 2 - Implementação básica. Rede Neural 2\n",
        "\n",
        "\"\"\"\n",
        "import numpy as np\n",
        "\n",
        "entradas = np.array([0, 1])\n",
        "pesos = np.array([0.5, 0.5])\n",
        "\n",
        "def soma(e, p):\n",
        "    return e.dot(p)\n",
        "# dot product / produto escalar\n",
        "        \n",
        "s = soma(entradas, pesos)\n",
        "\n",
        "def stepFunction(soma):\n",
        "    if (soma >= 1):\n",
        "        return 1\n",
        "    return 0\n",
        "\n",
        "r = stepFunction(s)\n",
        "print(r)\n",
        "print('Soma dos elementos de camada2: ', s)"
      ]
    },
    {
      "cell_type": "code",
      "execution_count": 2,
      "metadata": {
        "colab": {},
        "colab_type": "code",
        "id": "NJnCrH9JXE6c",
        "outputId": "028b707d-6273-4591-fb2d-60c382a88582"
      },
      "outputs": [
        {
          "name": "stdout",
          "output_type": "stream",
          "text": [
            "Attempting to Import Gym\n",
            "Remember you can use pip install gym at your command line.\n"
          ]
        },
        {
          "ename": "ModuleNotFoundError",
          "evalue": "No module named 'gym'",
          "output_type": "error",
          "traceback": [
            "\u001b[1;31m---------------------------------------------------------------------------\u001b[0m",
            "\u001b[1;31mModuleNotFoundError\u001b[0m                       Traceback (most recent call last)",
            "Cell \u001b[1;32mIn[2], line 3\u001b[0m\n\u001b[0;32m      1\u001b[0m \u001b[38;5;28mprint\u001b[39m(\u001b[38;5;124m\"\u001b[39m\u001b[38;5;124mAttempting to Import Gym\u001b[39m\u001b[38;5;124m\"\u001b[39m)\n\u001b[0;32m      2\u001b[0m \u001b[38;5;28mprint\u001b[39m(\u001b[38;5;124m\"\u001b[39m\u001b[38;5;124mRemember you can use pip install gym at your command line.\u001b[39m\u001b[38;5;124m\"\u001b[39m)\n\u001b[1;32m----> 3\u001b[0m \u001b[38;5;28;01mimport\u001b[39;00m \u001b[38;5;21;01mgym\u001b[39;00m\n\u001b[0;32m      4\u001b[0m \u001b[38;5;28mprint\u001b[39m(gym\u001b[38;5;241m.\u001b[39m__version__)\n\u001b[0;32m      5\u001b[0m \u001b[38;5;28mprint\u001b[39m(\u001b[38;5;124m\"\u001b[39m\u001b[38;5;124mIt worked!\u001b[39m\u001b[38;5;124m\"\u001b[39m)\n",
            "\u001b[1;31mModuleNotFoundError\u001b[0m: No module named 'gym'"
          ]
        }
      ],
      "source": [
        "print(\"Attempting to Import Gym\")\n",
        "print(\"Remember you can use pip install gym at your command line.\")\n",
        "import gym\n",
        "print(gym.__version__)\n",
        "print(\"It worked!\")\n"
      ]
    },
    {
      "cell_type": "code",
      "execution_count": null,
      "metadata": {
        "colab": {},
        "colab_type": "code",
        "id": "ezv2G5Q3XE6g"
      },
      "outputs": [],
      "source": []
    }
  ],
  "metadata": {
    "colab": {
      "name": "Redes Neurais Artificiais - Perceptrons 02 - Implementando uma Rede com Numpy 02.ipynb",
      "provenance": []
    },
    "kernelspec": {
      "display_name": "Python 3",
      "language": "python",
      "name": "python3"
    },
    "language_info": {
      "codemirror_mode": {
        "name": "ipython",
        "version": 3
      },
      "file_extension": ".py",
      "mimetype": "text/x-python",
      "name": "python",
      "nbconvert_exporter": "python",
      "pygments_lexer": "ipython3",
      "version": "3.12.0"
    }
  },
  "nbformat": 4,
  "nbformat_minor": 0
}
